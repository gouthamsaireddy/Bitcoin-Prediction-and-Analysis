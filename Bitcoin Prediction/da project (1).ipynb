{
 "cells": [
  {
   "cell_type": "code",
   "execution_count": null,
   "id": "9b7bccf1",
   "metadata": {},
   "outputs": [],
   "source": [
    "import pandas as pd\n",
    "import numpy as np\n",
    "import matplotlib.pyplot as plt\n",
    "import seaborn as sns\n",
    "from sklearn.linear_model import LinearRegression\n",
    "from sklearn.model_selection import train_test_split\n",
    "from sklearn.metrics import mean_squared_error"
   ]
  },
  {
   "cell_type": "code",
   "execution_count": null,
   "id": "c63dce90",
   "metadata": {},
   "outputs": [],
   "source": [
    "#data information\n",
    "df = pd.read_csv('bitcoin.csv')\n",
    "print(df.head())\n",
    "print(df.shape) \n",
    "print(df.info())\n",
    "print(df.describe())"
   ]
  },
  {
   "cell_type": "code",
   "execution_count": null,
   "id": "2ba6beb6",
   "metadata": {},
   "outputs": [],
   "source": [
    "#data cleaning\n",
    "print(df.isnull().sum())\n",
    "\n",
    "df.fillna(df.mean(), inplace=True)"
   ]
  },
  {
   "cell_type": "code",
   "execution_count": null,
   "id": "d96b5f02",
   "metadata": {},
   "outputs": [],
   "source": [
    "#Visualizing Bitcoin closing prices over time\n",
    "plt.figure(figsize=(12, 6))\n",
    "plt.plot(df['Date'], df['Close'])\n",
    "plt.title('Bitcoin Closing Prices Over Time')\n",
    "plt.xlabel('Date')\n",
    "plt.ylabel('Closing Price')\n",
    "plt.xticks(rotation=45)\n",
    "plt.show()"
   ]
  },
  {
   "cell_type": "code",
   "execution_count": null,
   "id": "ffc38120",
   "metadata": {},
   "outputs": [],
   "source": [
    "#Building a model to predict Bitcoin prices\n",
    "\n",
    "#data modeling\n",
    "X = df[['Open', 'High', 'Low', 'Adj Close', 'Volume', 'Month', 'Year']]\n",
    "y = df['Close']\n",
    "\n",
    "X_train, X_test, y_train, y_test = train_test_split(X, y, test_size=0.2, random_state=42)\n",
    "\n",
    "model = LinearRegression()\n",
    "model.fit(X_train, y_train)\n",
    "\n",
    "y_pred = model.predict(X_test)\n",
    "\n",
    "mse = mean_squared_error(y_test, y_pred)\n",
    "print('Mean Squared Error:', mse)"
   ]
  },
  {
   "cell_type": "code",
   "execution_count": null,
   "id": "938c9208",
   "metadata": {},
   "outputs": [],
   "source": [
    "# Function to predict Bitcoin prices\n",
    "def predict_price(open_price, high_price, low_price, adj_close, volume, month, year):\n",
    "    price_data = np.array([[open_price, high_price, low_price, adj_close, volume, month, year]])\n",
    "    price_predicted = model.predict(price_data)\n",
    "    return price_predicted[0]\n",
    "\n",
    "open_price = float(input(\"Enter the open price: \"))\n",
    "high_price = float(input(\"Enter the high price: \"))\n",
    "low_price = float(input(\"Enter the low price: \"))\n",
    "adj_close = float(input(\"Enter the adjusted close price: \"))\n",
    "volume = float(input(\"Enter the volume: \"))\n",
    "month = int(input(\"Enter the month: \"))\n",
    "year = int(input(\"Enter the year: \"))\n",
    "\n",
    "price_predicted = predict_price(open_price, high_price, low_price, adj_close, volume, month, year)\n",
    "print(\"Predicted Bitcoin price:\", price_predicted)"
   ]
  },
  {
   "cell_type": "code",
   "execution_count": null,
   "id": "21c04200",
   "metadata": {},
   "outputs": [],
   "source": []
  },
  {
   "cell_type": "code",
   "execution_count": null,
   "id": "a9b5d69d",
   "metadata": {},
   "outputs": [],
   "source": []
  }
 ],
 "metadata": {
  "kernelspec": {
   "display_name": "Python 3 (ipykernel)",
   "language": "python",
   "name": "python3"
  },
  "language_info": {
   "codemirror_mode": {
    "name": "ipython",
    "version": 3
   },
   "file_extension": ".py",
   "mimetype": "text/x-python",
   "name": "python",
   "nbconvert_exporter": "python",
   "pygments_lexer": "ipython3",
   "version": "3.9.12"
  }
 },
 "nbformat": 4,
 "nbformat_minor": 5
}
